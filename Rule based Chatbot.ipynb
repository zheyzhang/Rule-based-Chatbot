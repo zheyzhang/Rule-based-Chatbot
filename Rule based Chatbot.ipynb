{
 "cells": [
  {
   "cell_type": "markdown",
   "metadata": {},
   "source": [
    "# CITS 4012 Natural Language Processing\n",
    "# Project 1: A rule based chatbox\n",
    "#### 22889911 Zheyu Zhang"
   ]
  },
  {
   "cell_type": "markdown",
   "metadata": {},
   "source": [
    "## 1. Data Exploration"
   ]
  },
  {
   "cell_type": "markdown",
   "metadata": {},
   "source": [
    "All the library or packages needed are imported here together."
   ]
  },
  {
   "cell_type": "code",
   "execution_count": 1,
   "metadata": {},
   "outputs": [],
   "source": [
    "import numpy as np\n",
    "import pandas as pd\n",
    "import seaborn as sns\n",
    "import matplotlib.pyplot as plt\n",
    "import gensim\n",
    "from gensim.models import TfidfModel\n",
    "from gensim.corpora import Dictionary\n",
    "import nltk\n",
    "from nltk.probability import FreqDist\n",
    "from nltk.tokenize import word_tokenize\n",
    "from nltk.tokenize import wordpunct_tokenize\n",
    "from nltk.stem import WordNetLemmatizer\n",
    "from nltk.stem import PorterStemmer\n",
    "from nltk.corpus import stopwords\n",
    "import spacy\n",
    "from spacy import displacy\n",
    "from spacy.matcher import Matcher\n",
    "from spacy.tokens import Doc, Span, Token\n",
    "from sklearn.feature_extraction.text import TfidfVectorizer\n",
    "import json\n",
    "import operator\n",
    "import random\n",
    "nlp = spacy.load(\"en_core_web_sm\")\n"
   ]
  },
  {
   "cell_type": "markdown",
   "metadata": {},
   "source": [
    "### Input Data"
   ]
  },
  {
   "cell_type": "markdown",
   "metadata": {},
   "source": [
    "This is to read the data, and display the first five rows."
   ]
  },
  {
   "cell_type": "code",
   "execution_count": 6,
   "metadata": {},
   "outputs": [
    {
     "data": {
      "text/html": [
       "<div>\n",
       "<style scoped>\n",
       "    .dataframe tbody tr th:only-of-type {\n",
       "        vertical-align: middle;\n",
       "    }\n",
       "\n",
       "    .dataframe tbody tr th {\n",
       "        vertical-align: top;\n",
       "    }\n",
       "\n",
       "    .dataframe thead th {\n",
       "        text-align: right;\n",
       "    }\n",
       "</style>\n",
       "<table border=\"1\" class=\"dataframe\">\n",
       "  <thead>\n",
       "    <tr style=\"text-align: right;\">\n",
       "      <th></th>\n",
       "      <th>category</th>\n",
       "      <th>city</th>\n",
       "      <th>company_name</th>\n",
       "      <th>geo</th>\n",
       "      <th>job_board</th>\n",
       "      <th>job_description</th>\n",
       "      <th>job_title</th>\n",
       "      <th>job_type</th>\n",
       "      <th>post_date</th>\n",
       "      <th>salary_offered</th>\n",
       "      <th>state</th>\n",
       "      <th>url</th>\n",
       "    </tr>\n",
       "  </thead>\n",
       "  <tbody>\n",
       "    <tr>\n",
       "      <th>0</th>\n",
       "      <td>Retail &amp; Consumer Products</td>\n",
       "      <td>Sydney</td>\n",
       "      <td>Frontline Executive Retail Sydney</td>\n",
       "      <td>AU</td>\n",
       "      <td>seek</td>\n",
       "      <td>Have you had 10 years experience in fresh pro...</td>\n",
       "      <td>Store Manager - Fresh Produce</td>\n",
       "      <td>Full Time</td>\n",
       "      <td>2018-04-15T23:13:45Z</td>\n",
       "      <td>$100k Base + Super + Benefits</td>\n",
       "      <td>North Shore &amp; Northern Beaches</td>\n",
       "      <td>https://www.seek.com.au/job/35989382</td>\n",
       "    </tr>\n",
       "    <tr>\n",
       "      <th>1</th>\n",
       "      <td>Government &amp; Defence</td>\n",
       "      <td>Brisbane</td>\n",
       "      <td>Powerlink</td>\n",
       "      <td>AU</td>\n",
       "      <td>seek</td>\n",
       "      <td>The Opportunity: The Client Solution Analyst ...</td>\n",
       "      <td>Client Solution Analyst</td>\n",
       "      <td>Full Time</td>\n",
       "      <td>2018-04-15T23:04:40Z</td>\n",
       "      <td>Excellent remuneration packages</td>\n",
       "      <td>Northern Suburbs</td>\n",
       "      <td>https://www.seek.com.au/job/35989272</td>\n",
       "    </tr>\n",
       "    <tr>\n",
       "      <th>2</th>\n",
       "      <td>Trades &amp; Services</td>\n",
       "      <td>Sydney</td>\n",
       "      <td>Richard Jay Laundry</td>\n",
       "      <td>AU</td>\n",
       "      <td>seek</td>\n",
       "      <td>An innovative business development role for a...</td>\n",
       "      <td>Service Technician / Installer - NSW</td>\n",
       "      <td>Full Time</td>\n",
       "      <td>2018-04-15T23:04:31Z</td>\n",
       "      <td>NaN</td>\n",
       "      <td>Parramatta &amp; Western Suburbs</td>\n",
       "      <td>https://www.seek.com.au/job/35989270</td>\n",
       "    </tr>\n",
       "    <tr>\n",
       "      <th>3</th>\n",
       "      <td>Trades &amp; Services</td>\n",
       "      <td>Melbourne</td>\n",
       "      <td>Adaptalift Hyster</td>\n",
       "      <td>AU</td>\n",
       "      <td>seek</td>\n",
       "      <td>About the role: We are seeking an Automotive W...</td>\n",
       "      <td>Workshop Technician I Material Handling Equipment</td>\n",
       "      <td>Full Time</td>\n",
       "      <td>2018-04-16T03:15:17Z</td>\n",
       "      <td>NaN</td>\n",
       "      <td>Bayside &amp; South Eastern Suburbs</td>\n",
       "      <td>https://www.seek.com.au/job/35993203</td>\n",
       "    </tr>\n",
       "    <tr>\n",
       "      <th>4</th>\n",
       "      <td>Trades &amp; Services</td>\n",
       "      <td>Adelaide</td>\n",
       "      <td>Bakers Delight G&amp;M</td>\n",
       "      <td>AU</td>\n",
       "      <td>seek</td>\n",
       "      <td>Â Early starts and weekend shifts. No experie...</td>\n",
       "      <td>APPRENTICESHIP JUNIOR BAKER</td>\n",
       "      <td>Full Time</td>\n",
       "      <td>2018-04-16T01:26:50Z</td>\n",
       "      <td>NaN</td>\n",
       "      <td>NaN</td>\n",
       "      <td>https://www.seek.com.au/job/35991578</td>\n",
       "    </tr>\n",
       "  </tbody>\n",
       "</table>\n",
       "</div>"
      ],
      "text/plain": [
       "                     category       city                       company_name  \\\n",
       "0  Retail & Consumer Products     Sydney  Frontline Executive Retail Sydney   \n",
       "1        Government & Defence   Brisbane                          Powerlink   \n",
       "2           Trades & Services     Sydney                Richard Jay Laundry   \n",
       "3           Trades & Services  Melbourne                  Adaptalift Hyster   \n",
       "4           Trades & Services   Adelaide                 Bakers Delight G&M   \n",
       "\n",
       "  geo job_board                                    job_description  \\\n",
       "0  AU      seek   Have you had 10 years experience in fresh pro...   \n",
       "1  AU      seek   The Opportunity: The Client Solution Analyst ...   \n",
       "2  AU      seek   An innovative business development role for a...   \n",
       "3  AU      seek  About the role: We are seeking an Automotive W...   \n",
       "4  AU      seek   Â Early starts and weekend shifts. No experie...   \n",
       "\n",
       "                                           job_title   job_type  \\\n",
       "0                      Store Manager - Fresh Produce  Full Time   \n",
       "1                            Client Solution Analyst  Full Time   \n",
       "2               Service Technician / Installer - NSW  Full Time   \n",
       "3  Workshop Technician I Material Handling Equipment  Full Time   \n",
       "4                        APPRENTICESHIP JUNIOR BAKER  Full Time   \n",
       "\n",
       "              post_date                   salary_offered  \\\n",
       "0  2018-04-15T23:13:45Z    $100k Base + Super + Benefits   \n",
       "1  2018-04-15T23:04:40Z  Excellent remuneration packages   \n",
       "2  2018-04-15T23:04:31Z                              NaN   \n",
       "3  2018-04-16T03:15:17Z                              NaN   \n",
       "4  2018-04-16T01:26:50Z                              NaN   \n",
       "\n",
       "                             state                                   url  \n",
       "0   North Shore & Northern Beaches  https://www.seek.com.au/job/35989382  \n",
       "1                 Northern Suburbs  https://www.seek.com.au/job/35989272  \n",
       "2     Parramatta & Western Suburbs  https://www.seek.com.au/job/35989270  \n",
       "3  Bayside & South Eastern Suburbs  https://www.seek.com.au/job/35993203  \n",
       "4                              NaN  https://www.seek.com.au/job/35991578  "
      ]
     },
     "execution_count": 6,
     "metadata": {},
     "output_type": "execute_result"
    }
   ],
   "source": [
    "aujob = pd.read_csv('seek_australia.csv')\n",
    "aujob.head(5)"
   ]
  },
  {
   "cell_type": "markdown",
   "metadata": {},
   "source": [
    "This is for remove the character that are not standard english or digits.\n",
    "This step is useful for the next operation."
   ]
  },
  {
   "cell_type": "code",
   "execution_count": 7,
   "metadata": {},
   "outputs": [
    {
     "data": {
      "text/html": [
       "<div>\n",
       "<style scoped>\n",
       "    .dataframe tbody tr th:only-of-type {\n",
       "        vertical-align: middle;\n",
       "    }\n",
       "\n",
       "    .dataframe tbody tr th {\n",
       "        vertical-align: top;\n",
       "    }\n",
       "\n",
       "    .dataframe thead th {\n",
       "        text-align: right;\n",
       "    }\n",
       "</style>\n",
       "<table border=\"1\" class=\"dataframe\">\n",
       "  <thead>\n",
       "    <tr style=\"text-align: right;\">\n",
       "      <th></th>\n",
       "      <th>category</th>\n",
       "      <th>city</th>\n",
       "      <th>company_name</th>\n",
       "      <th>geo</th>\n",
       "      <th>job_board</th>\n",
       "      <th>job_description</th>\n",
       "      <th>job_title</th>\n",
       "      <th>job_type</th>\n",
       "      <th>post_date</th>\n",
       "      <th>salary_offered</th>\n",
       "      <th>state</th>\n",
       "      <th>url</th>\n",
       "    </tr>\n",
       "  </thead>\n",
       "  <tbody>\n",
       "    <tr>\n",
       "      <th>0</th>\n",
       "      <td>Retail &amp; Consumer Products</td>\n",
       "      <td>Sydney</td>\n",
       "      <td>Frontline Executive Retail Sydney</td>\n",
       "      <td>AU</td>\n",
       "      <td>seek</td>\n",
       "      <td>Have you had 10 years experience in fresh pro...</td>\n",
       "      <td>Store Manager - Fresh Produce</td>\n",
       "      <td>Full Time</td>\n",
       "      <td>2018-04-15T23:13:45Z</td>\n",
       "      <td>$100k Base + Super + Benefits</td>\n",
       "      <td>North Shore &amp; Northern Beaches</td>\n",
       "      <td>https://www.seek.com.au/job/35989382</td>\n",
       "    </tr>\n",
       "    <tr>\n",
       "      <th>1</th>\n",
       "      <td>Government &amp; Defence</td>\n",
       "      <td>Brisbane</td>\n",
       "      <td>Powerlink</td>\n",
       "      <td>AU</td>\n",
       "      <td>seek</td>\n",
       "      <td>The Opportunity: The Client Solution Analyst ...</td>\n",
       "      <td>Client Solution Analyst</td>\n",
       "      <td>Full Time</td>\n",
       "      <td>2018-04-15T23:04:40Z</td>\n",
       "      <td>Excellent remuneration packages</td>\n",
       "      <td>Northern Suburbs</td>\n",
       "      <td>https://www.seek.com.au/job/35989272</td>\n",
       "    </tr>\n",
       "    <tr>\n",
       "      <th>2</th>\n",
       "      <td>Trades &amp; Services</td>\n",
       "      <td>Sydney</td>\n",
       "      <td>Richard Jay Laundry</td>\n",
       "      <td>AU</td>\n",
       "      <td>seek</td>\n",
       "      <td>An innovative business development role for a...</td>\n",
       "      <td>Service Technician / Installer - NSW</td>\n",
       "      <td>Full Time</td>\n",
       "      <td>2018-04-15T23:04:31Z</td>\n",
       "      <td>NaN</td>\n",
       "      <td>Parramatta &amp; Western Suburbs</td>\n",
       "      <td>https://www.seek.com.au/job/35989270</td>\n",
       "    </tr>\n",
       "    <tr>\n",
       "      <th>3</th>\n",
       "      <td>Trades &amp; Services</td>\n",
       "      <td>Melbourne</td>\n",
       "      <td>Adaptalift Hyster</td>\n",
       "      <td>AU</td>\n",
       "      <td>seek</td>\n",
       "      <td>About the role: We are seeking an Automotive W...</td>\n",
       "      <td>Workshop Technician I Material Handling Equipment</td>\n",
       "      <td>Full Time</td>\n",
       "      <td>2018-04-16T03:15:17Z</td>\n",
       "      <td>NaN</td>\n",
       "      <td>Bayside &amp; South Eastern Suburbs</td>\n",
       "      <td>https://www.seek.com.au/job/35993203</td>\n",
       "    </tr>\n",
       "    <tr>\n",
       "      <th>4</th>\n",
       "      <td>Trades &amp; Services</td>\n",
       "      <td>Adelaide</td>\n",
       "      <td>Bakers Delight G&amp;M</td>\n",
       "      <td>AU</td>\n",
       "      <td>seek</td>\n",
       "      <td>Early starts and weekend shifts. No experienc...</td>\n",
       "      <td>APPRENTICESHIP JUNIOR BAKER</td>\n",
       "      <td>Full Time</td>\n",
       "      <td>2018-04-16T01:26:50Z</td>\n",
       "      <td>NaN</td>\n",
       "      <td>NaN</td>\n",
       "      <td>https://www.seek.com.au/job/35991578</td>\n",
       "    </tr>\n",
       "  </tbody>\n",
       "</table>\n",
       "</div>"
      ],
      "text/plain": [
       "                     category       city                       company_name  \\\n",
       "0  Retail & Consumer Products     Sydney  Frontline Executive Retail Sydney   \n",
       "1        Government & Defence   Brisbane                          Powerlink   \n",
       "2           Trades & Services     Sydney                Richard Jay Laundry   \n",
       "3           Trades & Services  Melbourne                  Adaptalift Hyster   \n",
       "4           Trades & Services   Adelaide                 Bakers Delight G&M   \n",
       "\n",
       "  geo job_board                                    job_description  \\\n",
       "0  AU      seek   Have you had 10 years experience in fresh pro...   \n",
       "1  AU      seek   The Opportunity: The Client Solution Analyst ...   \n",
       "2  AU      seek   An innovative business development role for a...   \n",
       "3  AU      seek  About the role: We are seeking an Automotive W...   \n",
       "4  AU      seek   Early starts and weekend shifts. No experienc...   \n",
       "\n",
       "                                           job_title   job_type  \\\n",
       "0                      Store Manager - Fresh Produce  Full Time   \n",
       "1                            Client Solution Analyst  Full Time   \n",
       "2               Service Technician / Installer - NSW  Full Time   \n",
       "3  Workshop Technician I Material Handling Equipment  Full Time   \n",
       "4                        APPRENTICESHIP JUNIOR BAKER  Full Time   \n",
       "\n",
       "              post_date                   salary_offered  \\\n",
       "0  2018-04-15T23:13:45Z    $100k Base + Super + Benefits   \n",
       "1  2018-04-15T23:04:40Z  Excellent remuneration packages   \n",
       "2  2018-04-15T23:04:31Z                              NaN   \n",
       "3  2018-04-16T03:15:17Z                              NaN   \n",
       "4  2018-04-16T01:26:50Z                              NaN   \n",
       "\n",
       "                             state                                   url  \n",
       "0   North Shore & Northern Beaches  https://www.seek.com.au/job/35989382  \n",
       "1                 Northern Suburbs  https://www.seek.com.au/job/35989272  \n",
       "2     Parramatta & Western Suburbs  https://www.seek.com.au/job/35989270  \n",
       "3  Bayside & South Eastern Suburbs  https://www.seek.com.au/job/35993203  \n",
       "4                              NaN  https://www.seek.com.au/job/35991578  "
      ]
     },
     "execution_count": 7,
     "metadata": {},
     "output_type": "execute_result"
    }
   ],
   "source": [
    "for i in aujob.columns:\n",
    "    aujob[i] = aujob[i].str.encode('ascii','ignore').str.decode('ascii')\n",
    "aujob.head(5)"
   ]
  },
  {
   "cell_type": "markdown",
   "metadata": {},
   "source": [
    "### 1.1 Frequency of Job Categories of Each City"
   ]
  },
  {
   "cell_type": "markdown",
   "metadata": {},
   "source": [
    "Extract required information into a new dataframe, and display the number of cities, number of job categories and the job categories of each city."
   ]
  },
  {
   "cell_type": "code",
   "execution_count": 8,
   "metadata": {},
   "outputs": [
    {
     "data": {
      "text/plain": [
       "city\n",
       "ACT                                    30\n",
       "Adelaide                               29\n",
       "Adelaide Hills & Barossa               15\n",
       "Albany & Great Southern                 9\n",
       "Albury Wodonga & Murray                18\n",
       "                                       ..\n",
       "Wagga Wagga & Riverina                 20\n",
       "Whyalla & Eyre Peninsula               14\n",
       "Wollongong, Illawarra & South Coast    25\n",
       "Yarra Valley & High Country            15\n",
       "Yorke Peninsula & Clare Valley         14\n",
       "Name: category, Length: 65, dtype: int64"
      ]
     },
     "execution_count": 8,
     "metadata": {},
     "output_type": "execute_result"
    }
   ],
   "source": [
    "city = aujob[[\"category\",\"city\"]]\n",
    "aujob['category'].groupby(aujob['city']).nunique()"
   ]
  },
  {
   "cell_type": "code",
   "execution_count": 9,
   "metadata": {},
   "outputs": [
    {
     "data": {
      "text/plain": [
       "city\n",
       "ACT                                    [Real Estate & Property, Administration & Offi...\n",
       "Adelaide                               [Trades & Services, Retail & Consumer Products...\n",
       "Adelaide Hills & Barossa               [Farming, Animals & Conservation, Trades & Ser...\n",
       "Albany & Great Southern                [Healthcare & Medical, Community Services & De...\n",
       "Albury Wodonga & Murray                [Construction, Administration & Office Support...\n",
       "                                                             ...                        \n",
       "Wagga Wagga & Riverina                 [Community Services & Development, Healthcare ...\n",
       "Whyalla & Eyre Peninsula               [Call Centre & Customer Service, Community Ser...\n",
       "Wollongong, Illawarra & South Coast    [Trades & Services, Engineering, Hospitality &...\n",
       "Yarra Valley & High Country            [Community Services & Development, Trades & Se...\n",
       "Yorke Peninsula & Clare Valley         [Community Services & Development, Trades & Se...\n",
       "Name: category, Length: 65, dtype: object"
      ]
     },
     "execution_count": 9,
     "metadata": {},
     "output_type": "execute_result"
    }
   ],
   "source": [
    "aujob.groupby('city')['category'].unique()"
   ]
  },
  {
   "cell_type": "code",
   "execution_count": 10,
   "metadata": {},
   "outputs": [
    {
     "data": {
      "text/plain": [
       "category\n",
       "Accounting                                49\n",
       "Administration & Office Support           58\n",
       "Advertising, Arts & Media                 21\n",
       "Banking & Financial Services              36\n",
       "CEO & General Management                  24\n",
       "Call Centre & Customer Service            30\n",
       "Community Services & Development          60\n",
       "Construction                              49\n",
       "Consulting & Strategy                     15\n",
       "Design & Architecture                     19\n",
       "Education & Training                      52\n",
       "Engineering                               47\n",
       "Farming, Animals & Conservation           36\n",
       "Government & Defence                      60\n",
       "Healthcare & Medical                      64\n",
       "Hospitality & Tourism                     58\n",
       "Human Resources & Recruitment             33\n",
       "Information & Communication Technology    35\n",
       "Insurance & Superannuation                16\n",
       "Legal                                     27\n",
       "Manufacturing, Transport & Logistics      56\n",
       "Marketing & Communications                24\n",
       "Mining, Resources & Energy                49\n",
       "Real Estate & Property                    36\n",
       "Retail & Consumer Products                56\n",
       "Sales                                     49\n",
       "Science & Technology                      25\n",
       "Self Employment                            8\n",
       "Sport & Recreation                        21\n",
       "Trades & Services                         63\n",
       "Name: city, dtype: int64"
      ]
     },
     "execution_count": 10,
     "metadata": {},
     "output_type": "execute_result"
    }
   ],
   "source": [
    "aujob.groupby('category')['city'].nunique()"
   ]
  },
  {
   "cell_type": "markdown",
   "metadata": {},
   "source": [
    "This is the function for display the job categories in one city. \n",
    "\n",
    "It can display different city's distribution of job categories only by change the argument of `city_job(cityname)`."
   ]
  },
  {
   "cell_type": "code",
   "execution_count": 11,
   "metadata": {},
   "outputs": [
    {
     "data": {
      "image/png": "[encoded data removed]",
      "text/plain": [
       "<Figure size 720x720 with 1 Axes>"
      ]
     },
     "metadata": {
      "needs_background": "light"
     },
     "output_type": "display_data"
    }
   ],
   "source": [
    "def city_job(cityname):\n",
    "    plt.figure(figsize=(10,10))\n",
    "    plt.title(cityname)\n",
    "    plt.text\n",
    "    df=aujob[aujob['city'] == cityname]\n",
    "    sns.histplot(y=\"category\", data=df, )\n",
    "    plt.show()\n",
    "    \n",
    "city_job('Sydney')"
   ]
  },
  {
   "cell_type": "markdown",
   "metadata": {},
   "source": [
    "### 1.2 Word Frequency of Each Job Category"
   ]
  },
  {
   "cell_type": "markdown",
   "metadata": {},
   "source": [
    "This is for display the word frequency in the job description in each job category.\n",
    "\n",
    "The gensim is one of the library that useful to tokenise while removing punctuation and turn the tokens into lower cases."
   ]
  },
  {
   "cell_type": "code",
   "execution_count": 12,
   "metadata": {},
   "outputs": [],
   "source": [
    "def sent_to_words(sentences):\n",
    "    for sentence in sentences:\n",
    "        yield(gensim.utils.simple_preprocess(str(sentence), deacc = True))"
   ]
  },
  {
   "cell_type": "markdown",
   "metadata": {},
   "source": [
    "The plot is displayed below, and it also can be changed to show different categories by changing the argument`word_frequency(category)`. "
   ]
  },
  {
   "cell_type": "code",
   "execution_count": 13,
   "metadata": {},
   "outputs": [
    {
     "data": {
      "image/png": "[encoded data removed]",
      "text/plain": [
       "<Figure size 720x720 with 1 Axes>"
      ]
     },
     "metadata": {
      "needs_background": "light"
     },
     "output_type": "display_data"
    },
    {
     "data": {
      "text/plain": [
       "<AxesSubplot:title={'center':'Accounting'}, xlabel='Samples', ylabel='Counts'>"
      ]
     },
     "execution_count": 13,
     "metadata": {},
     "output_type": "execute_result"
    }
   ],
   "source": [
    "def word_frequency(category):\n",
    "    des=[]\n",
    "    df = aujob[aujob['category'] == category]\n",
    "    tokenized = list(sent_to_words(df['job_description']))\n",
    "    for i in tokenized:\n",
    "        des += i\n",
    "    b =  ' '.join(des)\n",
    "    fdist = FreqDist(nltk.word_tokenize(b))\n",
    "    plt.figure(figsize=(10,10))\n",
    "    plt.title(category)\n",
    "    return fdist.plot(20)\n",
    "    \n",
    "word_frequency(\"Accounting\")"
   ]
  },
  {
   "cell_type": "markdown",
   "metadata": {},
   "source": [
    "## 2 Data Preprocessing"
   ]
  },
  {
   "cell_type": "markdown",
   "metadata": {},
   "source": [
    "### 2.1 Tokenize"
   ]
  },
  {
   "cell_type": "code",
   "execution_count": 14,
   "metadata": {},
   "outputs": [],
   "source": [
    "def tokenize(category):\n",
    "    df_cate = aujob[aujob['category'] == category]\n",
    "    job_token=df_cate['job_description'].tolist()\n",
    "    total=[]\n",
    "    voc_size = 0\n",
    "    text_size = 0\n",
    "    overall = []\n",
    "    for i in range(len(job_token)):\n",
    "        words = nltk.wordpunct_tokenize(str(job_token[i]))\n",
    "        total.append(words)\n",
    "    for lst in total:\n",
    "        overall += lst\n",
    "    text_size = len(overall)\n",
    "    voc_size = len(set(overall))\n",
    "    size=(text_size,voc_size)\n",
    "    return size, total, df_cate"
   ]
  },
  {
   "cell_type": "markdown",
   "metadata": {},
   "source": [
    "#### Choose the Category you want to see here."
   ]
  },
  {
   "cell_type": "code",
   "execution_count": 15,
   "metadata": {},
   "outputs": [
    {
     "name": "stdout",
     "output_type": "stream",
     "text": [
      "Text Size vs. Vocabulary Size (Tokenized): (4584, 1092)\n"
     ]
    }
   ],
   "source": [
    "size_tokenized,tokenized,used_df = tokenize('Self Employment') \n",
    "print(\"Text Size vs. Vocabulary Size (Tokenized):\",size_tokenized)"
   ]
  },
  {
   "cell_type": "markdown",
   "metadata": {},
   "source": [
    "### 2.2 Lemmatize and Compare with Stemming"
   ]
  },
  {
   "cell_type": "code",
   "execution_count": 16,
   "metadata": {},
   "outputs": [],
   "source": [
    "def Lemm(tokenized_list):\n",
    "    total=[]\n",
    "    overall = []\n",
    "    voc_size = 0\n",
    "    text_size = 0\n",
    "    lem = WordNetLemmatizer()  \n",
    "    for lst in tokenized_list:\n",
    "        lemmatized = []\n",
    "        for w in lst:\n",
    "            rootWord = lem.lemmatize(str(w))\n",
    "            lemmatized.append(rootWord)\n",
    "        total.append(lemmatized)\n",
    "    for lst in total:\n",
    "        overall += lst\n",
    "    text_size = len(overall)\n",
    "    voc_size = len(set(overall))\n",
    "    size=(text_size,voc_size)\n",
    "    return size, total\n"
   ]
  },
  {
   "cell_type": "code",
   "execution_count": 17,
   "metadata": {},
   "outputs": [],
   "source": [
    "def Stem(tokenized_list):\n",
    "    total = []\n",
    "    overall = []\n",
    "    voc_size = 0\n",
    "    text_size = 0\n",
    "    ps = PorterStemmer()\n",
    "    for lst in tokenized_list:\n",
    "        stemming = []\n",
    "        for w in lst:  \n",
    "            rootWord = ps.stem(str(w))\n",
    "            stemming.append(rootWord)\n",
    "        #voc_size += len(set(stemming))\n",
    "        #text_size += len(stemming)\n",
    "        total.append(stemming)\n",
    "    for lst in total:\n",
    "        overall += lst\n",
    "    text_size = len(overall)\n",
    "    voc_size = len(set(overall))\n",
    "    size=(text_size,voc_size)\n",
    "    return size,total"
   ]
  },
  {
   "cell_type": "code",
   "execution_count": 18,
   "metadata": {},
   "outputs": [
    {
     "name": "stdout",
     "output_type": "stream",
     "text": [
      "Text Size vs. Vocabulary Size (Lemmatized): (4584, 1051)\n",
      "Text Size vs. Vocabulary Size (Stemming): (4584, 833)\n",
      "Lemmatisation gets more words than Stemming\n"
     ]
    }
   ],
   "source": [
    "def LemAndStem(tokenized_list):\n",
    "    size_lem, lemmatized = Lemm(tokenized)\n",
    "    size_ste, stemming = Stem(tokenized)\n",
    "    print('Text Size vs. Vocabulary Size (Lemmatized):', size_lem)\n",
    "    print('Text Size vs. Vocabulary Size (Stemming):', size_ste)\n",
    "    if size_lem[1] > size_ste[1]:\n",
    "        print(\"Lemmatisation gets more words than Stemming\")\n",
    "        return stemming\n",
    "    else:\n",
    "        print(\"Stemming gets more words than Lemmatisation\")\n",
    "        return lemmatized\n",
    "        \n",
    "    \n",
    "compared = LemAndStem(tokenized)"
   ]
  },
  {
   "cell_type": "markdown",
   "metadata": {},
   "source": [
    "### 2.3 Retokenize Frequent Noun Phrases"
   ]
  },
  {
   "cell_type": "code",
   "execution_count": 19,
   "metadata": {},
   "outputs": [
    {
     "name": "stdout",
     "output_type": "stream",
     "text": [
      "Text Size vs. Vocabulary Size (Retokenized): (3241, 876)\n"
     ]
    }
   ],
   "source": [
    "def retokenize(compared_list):\n",
    "    total = []\n",
    "    overall = []\n",
    "    nlp=spacy.load('en_core_web_sm')\n",
    "    for i in range(len(compared_list)):\n",
    "        sen_retoken = []\n",
    "        lst = compared_list[i]\n",
    "        sentence = \"\"\n",
    "        for j in lst:\n",
    "            sentence += j + \" \"\n",
    "        doc = nlp(sentence)\n",
    "        with doc.retokenize() as retokenizer:\n",
    "            for chunk in doc.noun_chunks:\n",
    "                retokenizer.merge(chunk)\n",
    "        for token in doc:\n",
    "            sen_retoken.append(token.text)\n",
    "        total.append(sen_retoken)\n",
    "    for l in total:\n",
    "        overall += l\n",
    "    text_size = len(overall)\n",
    "    voc_size = len(set(overall))\n",
    "    size=(text_size,voc_size)\n",
    "    return size, total\n",
    "size_ret, retokenized = retokenize(compared)\n",
    "print(\"Text Size vs. Vocabulary Size (Retokenized):\",size_ret)"
   ]
  },
  {
   "cell_type": "markdown",
   "metadata": {},
   "source": [
    "### 2.4 Remove Stop Words"
   ]
  },
  {
   "cell_type": "code",
   "execution_count": 20,
   "metadata": {},
   "outputs": [
    {
     "name": "stdout",
     "output_type": "stream",
     "text": [
      "Text Size vs. Vocabulary Size (Removed Stop Words): (3000, 871)\n"
     ]
    },
    {
     "name": "stderr",
     "output_type": "stream",
     "text": [
      "[nltk_data] Downloading package stopwords to\n",
      "[nltk_data]     C:\\Users\\admin\\AppData\\Roaming\\nltk_data...\n",
      "[nltk_data]   Package stopwords is already up-to-date!\n"
     ]
    }
   ],
   "source": [
    "def removed(retokenized_list):\n",
    "  overall_stop = []\n",
    "  overall_lst = []\n",
    "  stopword_count = []\n",
    "  total = []\n",
    "  overall = []\n",
    "  nltk.download('stopwords')\n",
    "  for i in range(len(retokenized_list)):\n",
    "    lst = retokenized_list[i]\n",
    "    lst_sentence = \"\"\n",
    "    for j in lst:\n",
    "      lst_sentence += j + \" \"\n",
    "    overall_lst.append(lst_sentence)\n",
    "  doc_tokenized = list(sent_to_words(overall_lst))\n",
    "  dictionary = Dictionary()\n",
    "  BoW_corpus = [dictionary.doc2bow(doc, allow_update= True) for doc in doc_tokenized]\n",
    "  tfidf = TfidfModel(BoW_corpus, smartirs='ntc')\n",
    "  for doc in tfidf[BoW_corpus]:\n",
    "      token_lst = []\n",
    "      for id ,freq in doc:\n",
    "          token_lst.append([dictionary[id], np.around(freq,decimals =8)])\n",
    "          token_lst.sort(key = lambda x:x[1]) \n",
    "          stopword = [x for x,y in token_lst[:15]] # each for top 15 tfidf smallest \n",
    "      overall_stop.append(stopword)\n",
    "  for word in overall_stop:\n",
    "    stopword_count.append(word[0])\n",
    "  top10tfidf = pd.value_counts(stopword_count)\n",
    "  top10_list = top10tfidf.index.tolist()[:10] # Get the top 10 of intersection of each sentence\n",
    "  stwo_in_official = [word for word in top10_list if word in stopwords.words()]\n",
    "  # Compare the stop words found with the official stopwords, find the cross words and remove them.\n",
    "  for p in range(len(retokenized_list)):\n",
    "    new_list = [word for word in retokenized_list[p] if not word in stwo_in_official]\n",
    "    total.append(new_list)\n",
    "  for l in total:\n",
    "        overall += l\n",
    "  text_size = len(overall)\n",
    "  voc_size = len(set(overall))\n",
    "  size=(text_size,voc_size)\n",
    "  return size, total\n",
    "size_removed, SWord_Removed = removed(retokenized)\n",
    "print(\"Text Size vs. Vocabulary Size (Removed Stop Words):\",size_removed)"
   ]
  },
  {
   "cell_type": "markdown",
   "metadata": {},
   "source": [
    "### 2.5 Group Job Description"
   ]
  },
  {
   "cell_type": "markdown",
   "metadata": {},
   "source": [
    "Merge Noun Phrases and rank the tfidf, find the top 150 noun phrases and pick them into job experience."
   ]
  },
  {
   "cell_type": "code",
   "execution_count": 21,
   "metadata": {},
   "outputs": [
    {
     "name": "stdout",
     "output_type": "stream",
     "text": [
      "Text Size vs. Vocabulary Size (Experience extracted): (1659, 412)\n"
     ]
    }
   ],
   "source": [
    "def tfidfrank(stword_removed):\n",
    "    total = []\n",
    "    overall = []\n",
    "    exper = []\n",
    "    for i in range(len(stword_removed)):\n",
    "        noun_lst = []\n",
    "        each_lst = stword_removed[i]\n",
    "        turn_sentence = \"\"\n",
    "        for j in each_lst:\n",
    "            if j.isalnum():\n",
    "                turn_sentence += j + \" \"\n",
    "            else:\n",
    "                turn_sentence = turn_sentence\n",
    "        doc = nlp(turn_sentence)  \n",
    "        with doc.retokenize() as retokenizer:\n",
    "            for chunk in doc.noun_chunks:\n",
    "                retokenizer.merge(chunk)\n",
    "        for token in doc:\n",
    "            noun_lst.append(token.text)\n",
    "        total.append(noun_lst)\n",
    "    dictionary = Dictionary()\n",
    "    BoW_corpus = [dictionary.doc2bow(doc, allow_update= True) for doc in total]\n",
    "    tfidf = TfidfModel(BoW_corpus, smartirs='ntc')\n",
    "    for doc in tfidf[BoW_corpus]:\n",
    "        token_lst = []\n",
    "        for id ,freq in doc:\n",
    "          token_lst.append([dictionary[id], np.around(freq,decimals =8)])\n",
    "          token_lst.sort(key = lambda x:x[1], reverse = True) \n",
    "          noun = [x for x,y in token_lst[:150]]\n",
    "        n=len(noun)\n",
    "        for x in range(n):\n",
    "            n -= 1\n",
    "            if operator.contains(noun[x],\"exper\"):\n",
    "                exper.append(noun[x])\n",
    "                break\n",
    "            elif n ==0 :\n",
    "                exper.append(\"Not Required\")\n",
    "                break\n",
    "    for l in total:\n",
    "        overall += l\n",
    "    text_size = len(overall)\n",
    "    voc_size = len(set(overall))\n",
    "    size=(text_size,voc_size)\n",
    "    return size, total, exper\n",
    "size_expext, Expext, new_experience = tfidfrank(SWord_Removed)\n",
    "print(\"Text Size vs. Vocabulary Size (Experience extracted):\",size_expext)\n",
    "    "
   ]
  },
  {
   "cell_type": "markdown",
   "metadata": {},
   "source": [
    "Get a new dataframe that only contains what we need for the chatbot implementation."
   ]
  },
  {
   "cell_type": "code",
   "execution_count": 23,
   "metadata": {},
   "outputs": [
    {
     "name": "stdout",
     "output_type": "stream",
     "text": [
      "Text Size vs. Vocabulary Size (Lemmatized): (536106, 14667)\n",
      "Text Size vs. Vocabulary Size (Stemming): (536106, 9103)\n",
      "Lemmatisation gets more words than Stemming\n"
     ]
    },
    {
     "name": "stderr",
     "output_type": "stream",
     "text": [
      "[nltk_data] Downloading package stopwords to\n",
      "[nltk_data]     C:\\Users\\admin\\AppData\\Roaming\\nltk_data...\n",
      "[nltk_data]   Package stopwords is already up-to-date!\n",
      "c:\\envs\\cits4012_py37\\lib\\site-packages\\ipykernel_launcher.py:45: SettingWithCopyWarning: \n",
      "A value is trying to be set on a copy of a slice from a DataFrame.\n",
      "Try using .loc[row_indexer,col_indexer] = value instead\n",
      "\n",
      "See the caveats in the documentation: https://pandas.pydata.org/pandas-docs/stable/user_guide/indexing.html#returning-a-view-versus-a-copy\n",
      "c:\\envs\\cits4012_py37\\lib\\site-packages\\ipykernel_launcher.py:46: SettingWithCopyWarning: \n",
      "A value is trying to be set on a copy of a slice from a DataFrame.\n",
      "Try using .loc[row_indexer,col_indexer] = value instead\n",
      "\n",
      "See the caveats in the documentation: https://pandas.pydata.org/pandas-docs/stable/user_guide/indexing.html#returning-a-view-versus-a-copy\n"
     ]
    },
    {
     "name": "stdout",
     "output_type": "stream",
     "text": [
      "Text Size vs. Vocabulary Size (Lemmatized): (563016, 17774)\n",
      "Text Size vs. Vocabulary Size (Stemming): (563016, 11091)\n",
      "Lemmatisation gets more words than Stemming\n"
     ]
    },
    {
     "name": "stderr",
     "output_type": "stream",
     "text": [
      "[nltk_data] Downloading package stopwords to\n",
      "[nltk_data]     C:\\Users\\admin\\AppData\\Roaming\\nltk_data...\n",
      "[nltk_data]   Package stopwords is already up-to-date!\n"
     ]
    },
    {
     "name": "stdout",
     "output_type": "stream",
     "text": [
      "Text Size vs. Vocabulary Size (Lemmatized): (57264, 5462)\n",
      "Text Size vs. Vocabulary Size (Stemming): (57264, 3475)\n",
      "Lemmatisation gets more words than Stemming\n"
     ]
    },
    {
     "name": "stderr",
     "output_type": "stream",
     "text": [
      "[nltk_data] Downloading package stopwords to\n",
      "[nltk_data]     C:\\Users\\admin\\AppData\\Roaming\\nltk_data...\n",
      "[nltk_data]   Package stopwords is already up-to-date!\n"
     ]
    },
    {
     "name": "stdout",
     "output_type": "stream",
     "text": [
      "Text Size vs. Vocabulary Size (Lemmatized): (261488, 9683)\n",
      "Text Size vs. Vocabulary Size (Stemming): (261488, 5675)\n",
      "Lemmatisation gets more words than Stemming\n"
     ]
    },
    {
     "name": "stderr",
     "output_type": "stream",
     "text": [
      "[nltk_data] Downloading package stopwords to\n",
      "[nltk_data]     C:\\Users\\admin\\AppData\\Roaming\\nltk_data...\n",
      "[nltk_data]   Package stopwords is already up-to-date!\n"
     ]
    },
    {
     "name": "stdout",
     "output_type": "stream",
     "text": [
      "Text Size vs. Vocabulary Size (Lemmatized): (37341, 4415)\n",
      "Text Size vs. Vocabulary Size (Stemming): (37341, 2800)\n",
      "Lemmatisation gets more words than Stemming\n"
     ]
    },
    {
     "name": "stderr",
     "output_type": "stream",
     "text": [
      "[nltk_data] Downloading package stopwords to\n",
      "[nltk_data]     C:\\Users\\admin\\AppData\\Roaming\\nltk_data...\n",
      "[nltk_data]   Package stopwords is already up-to-date!\n"
     ]
    },
    {
     "name": "stdout",
     "output_type": "stream",
     "text": [
      "Text Size vs. Vocabulary Size (Lemmatized): (248074, 10638)\n",
      "Text Size vs. Vocabulary Size (Stemming): (248074, 6327)\n",
      "Lemmatisation gets more words than Stemming\n"
     ]
    },
    {
     "name": "stderr",
     "output_type": "stream",
     "text": [
      "[nltk_data] Downloading package stopwords to\n",
      "[nltk_data]     C:\\Users\\admin\\AppData\\Roaming\\nltk_data...\n",
      "[nltk_data]   Package stopwords is already up-to-date!\n"
     ]
    },
    {
     "name": "stdout",
     "output_type": "stream",
     "text": [
      "Text Size vs. Vocabulary Size (Lemmatized): (404741, 11728)\n",
      "Text Size vs. Vocabulary Size (Stemming): (404741, 7469)\n",
      "Lemmatisation gets more words than Stemming\n"
     ]
    },
    {
     "name": "stderr",
     "output_type": "stream",
     "text": [
      "[nltk_data] Downloading package stopwords to\n",
      "[nltk_data]     C:\\Users\\admin\\AppData\\Roaming\\nltk_data...\n",
      "[nltk_data]   Package stopwords is already up-to-date!\n"
     ]
    },
    {
     "name": "stdout",
     "output_type": "stream",
     "text": [
      "Text Size vs. Vocabulary Size (Lemmatized): (364550, 13948)\n",
      "Text Size vs. Vocabulary Size (Stemming): (364550, 8484)\n",
      "Lemmatisation gets more words than Stemming\n"
     ]
    },
    {
     "name": "stderr",
     "output_type": "stream",
     "text": [
      "[nltk_data] Downloading package stopwords to\n",
      "[nltk_data]     C:\\Users\\admin\\AppData\\Roaming\\nltk_data...\n",
      "[nltk_data]   Package stopwords is already up-to-date!\n"
     ]
    },
    {
     "name": "stdout",
     "output_type": "stream",
     "text": [
      "Text Size vs. Vocabulary Size (Lemmatized): (76648, 5637)\n",
      "Text Size vs. Vocabulary Size (Stemming): (76648, 3414)\n",
      "Lemmatisation gets more words than Stemming\n"
     ]
    },
    {
     "name": "stderr",
     "output_type": "stream",
     "text": [
      "[nltk_data] Downloading package stopwords to\n",
      "[nltk_data]     C:\\Users\\admin\\AppData\\Roaming\\nltk_data...\n",
      "[nltk_data]   Package stopwords is already up-to-date!\n"
     ]
    },
    {
     "name": "stdout",
     "output_type": "stream",
     "text": [
      "Text Size vs. Vocabulary Size (Lemmatized): (94488, 6580)\n",
      "Text Size vs. Vocabulary Size (Stemming): (94488, 4077)\n",
      "Lemmatisation gets more words than Stemming\n"
     ]
    },
    {
     "name": "stderr",
     "output_type": "stream",
     "text": [
      "[nltk_data] Downloading package stopwords to\n",
      "[nltk_data]     C:\\Users\\admin\\AppData\\Roaming\\nltk_data...\n",
      "[nltk_data]   Package stopwords is already up-to-date!\n"
     ]
    },
    {
     "name": "stdout",
     "output_type": "stream",
     "text": [
      "Text Size vs. Vocabulary Size (Lemmatized): (614725, 16448)\n",
      "Text Size vs. Vocabulary Size (Stemming): (614725, 10491)\n",
      "Lemmatisation gets more words than Stemming\n"
     ]
    },
    {
     "name": "stderr",
     "output_type": "stream",
     "text": [
      "[nltk_data] Downloading package stopwords to\n",
      "[nltk_data]     C:\\Users\\admin\\AppData\\Roaming\\nltk_data...\n",
      "[nltk_data]   Package stopwords is already up-to-date!\n"
     ]
    },
    {
     "name": "stdout",
     "output_type": "stream",
     "text": [
      "Text Size vs. Vocabulary Size (Lemmatized): (303095, 12596)\n",
      "Text Size vs. Vocabulary Size (Stemming): (303095, 7681)\n",
      "Lemmatisation gets more words than Stemming\n"
     ]
    },
    {
     "name": "stderr",
     "output_type": "stream",
     "text": [
      "[nltk_data] Downloading package stopwords to\n",
      "[nltk_data]     C:\\Users\\admin\\AppData\\Roaming\\nltk_data...\n",
      "[nltk_data]   Package stopwords is already up-to-date!\n"
     ]
    },
    {
     "name": "stdout",
     "output_type": "stream",
     "text": [
      "Text Size vs. Vocabulary Size (Lemmatized): (33326, 4576)\n",
      "Text Size vs. Vocabulary Size (Stemming): (33326, 2935)\n",
      "Lemmatisation gets more words than Stemming\n"
     ]
    },
    {
     "name": "stderr",
     "output_type": "stream",
     "text": [
      "[nltk_data] Downloading package stopwords to\n",
      "[nltk_data]     C:\\Users\\admin\\AppData\\Roaming\\nltk_data...\n",
      "[nltk_data]   Package stopwords is already up-to-date!\n"
     ]
    },
    {
     "name": "stdout",
     "output_type": "stream",
     "text": [
      "Text Size vs. Vocabulary Size (Lemmatized): (600584, 15016)\n",
      "Text Size vs. Vocabulary Size (Stemming): (600584, 9528)\n",
      "Lemmatisation gets more words than Stemming\n"
     ]
    },
    {
     "name": "stderr",
     "output_type": "stream",
     "text": [
      "[nltk_data] Downloading package stopwords to\n",
      "[nltk_data]     C:\\Users\\admin\\AppData\\Roaming\\nltk_data...\n",
      "[nltk_data]   Package stopwords is already up-to-date!\n"
     ]
    },
    {
     "name": "stdout",
     "output_type": "stream",
     "text": [
      "Text Size vs. Vocabulary Size (Lemmatized): (831824, 21532)\n",
      "Text Size vs. Vocabulary Size (Stemming): (831824, 14357)\n",
      "Lemmatisation gets more words than Stemming\n"
     ]
    },
    {
     "name": "stderr",
     "output_type": "stream",
     "text": [
      "[nltk_data] Downloading package stopwords to\n",
      "[nltk_data]     C:\\Users\\admin\\AppData\\Roaming\\nltk_data...\n",
      "[nltk_data]   Package stopwords is already up-to-date!\n"
     ]
    },
    {
     "name": "stdout",
     "output_type": "stream",
     "text": [
      "Text Size vs. Vocabulary Size (Lemmatized): (355162, 14632)\n",
      "Text Size vs. Vocabulary Size (Stemming): (355162, 9173)\n",
      "Lemmatisation gets more words than Stemming\n"
     ]
    },
    {
     "name": "stderr",
     "output_type": "stream",
     "text": [
      "[nltk_data] Downloading package stopwords to\n",
      "[nltk_data]     C:\\Users\\admin\\AppData\\Roaming\\nltk_data...\n",
      "[nltk_data]   Package stopwords is already up-to-date!\n"
     ]
    },
    {
     "name": "stdout",
     "output_type": "stream",
     "text": [
      "Text Size vs. Vocabulary Size (Lemmatized): (273425, 10637)\n",
      "Text Size vs. Vocabulary Size (Stemming): (273425, 6460)\n",
      "Lemmatisation gets more words than Stemming\n"
     ]
    },
    {
     "name": "stderr",
     "output_type": "stream",
     "text": [
      "[nltk_data] Downloading package stopwords to\n",
      "[nltk_data]     C:\\Users\\admin\\AppData\\Roaming\\nltk_data...\n",
      "[nltk_data]   Package stopwords is already up-to-date!\n"
     ]
    },
    {
     "name": "stdout",
     "output_type": "stream",
     "text": [
      "Text Size vs. Vocabulary Size (Lemmatized): (968805, 23200)\n",
      "Text Size vs. Vocabulary Size (Stemming): (968805, 14547)\n",
      "Lemmatisation gets more words than Stemming\n"
     ]
    },
    {
     "name": "stderr",
     "output_type": "stream",
     "text": [
      "[nltk_data] Downloading package stopwords to\n",
      "[nltk_data]     C:\\Users\\admin\\AppData\\Roaming\\nltk_data...\n",
      "[nltk_data]   Package stopwords is already up-to-date!\n"
     ]
    },
    {
     "name": "stdout",
     "output_type": "stream",
     "text": [
      "Text Size vs. Vocabulary Size (Lemmatized): (91579, 5266)\n",
      "Text Size vs. Vocabulary Size (Stemming): (91579, 3092)\n",
      "Lemmatisation gets more words than Stemming\n"
     ]
    },
    {
     "name": "stderr",
     "output_type": "stream",
     "text": [
      "[nltk_data] Downloading package stopwords to\n",
      "[nltk_data]     C:\\Users\\admin\\AppData\\Roaming\\nltk_data...\n",
      "[nltk_data]   Package stopwords is already up-to-date!\n"
     ]
    },
    {
     "name": "stdout",
     "output_type": "stream",
     "text": [
      "Text Size vs. Vocabulary Size (Lemmatized): (167510, 8452)\n",
      "Text Size vs. Vocabulary Size (Stemming): (167510, 5360)\n",
      "Lemmatisation gets more words than Stemming\n"
     ]
    },
    {
     "name": "stderr",
     "output_type": "stream",
     "text": [
      "[nltk_data] Downloading package stopwords to\n",
      "[nltk_data]     C:\\Users\\admin\\AppData\\Roaming\\nltk_data...\n",
      "[nltk_data]   Package stopwords is already up-to-date!\n"
     ]
    },
    {
     "name": "stdout",
     "output_type": "stream",
     "text": [
      "Text Size vs. Vocabulary Size (Lemmatized): (574406, 18911)\n",
      "Text Size vs. Vocabulary Size (Stemming): (574406, 11678)\n",
      "Lemmatisation gets more words than Stemming\n"
     ]
    },
    {
     "name": "stderr",
     "output_type": "stream",
     "text": [
      "[nltk_data] Downloading package stopwords to\n",
      "[nltk_data]     C:\\Users\\admin\\AppData\\Roaming\\nltk_data...\n",
      "[nltk_data]   Package stopwords is already up-to-date!\n"
     ]
    },
    {
     "name": "stdout",
     "output_type": "stream",
     "text": [
      "Text Size vs. Vocabulary Size (Lemmatized): (281720, 11796)\n",
      "Text Size vs. Vocabulary Size (Stemming): (281720, 7103)\n",
      "Lemmatisation gets more words than Stemming\n"
     ]
    },
    {
     "name": "stderr",
     "output_type": "stream",
     "text": [
      "[nltk_data] Downloading package stopwords to\n",
      "[nltk_data]     C:\\Users\\admin\\AppData\\Roaming\\nltk_data...\n",
      "[nltk_data]   Package stopwords is already up-to-date!\n"
     ]
    },
    {
     "name": "stdout",
     "output_type": "stream",
     "text": [
      "Text Size vs. Vocabulary Size (Lemmatized): (293906, 11402)\n",
      "Text Size vs. Vocabulary Size (Stemming): (293906, 6908)\n",
      "Lemmatisation gets more words than Stemming\n"
     ]
    },
    {
     "name": "stderr",
     "output_type": "stream",
     "text": [
      "[nltk_data] Downloading package stopwords to\n",
      "[nltk_data]     C:\\Users\\admin\\AppData\\Roaming\\nltk_data...\n",
      "[nltk_data]   Package stopwords is already up-to-date!\n"
     ]
    },
    {
     "name": "stdout",
     "output_type": "stream",
     "text": [
      "Text Size vs. Vocabulary Size (Lemmatized): (180936, 8873)\n",
      "Text Size vs. Vocabulary Size (Stemming): (180936, 5353)\n",
      "Lemmatisation gets more words than Stemming\n"
     ]
    },
    {
     "name": "stderr",
     "output_type": "stream",
     "text": [
      "[nltk_data] Downloading package stopwords to\n",
      "[nltk_data]     C:\\Users\\admin\\AppData\\Roaming\\nltk_data...\n",
      "[nltk_data]   Package stopwords is already up-to-date!\n"
     ]
    },
    {
     "name": "stdout",
     "output_type": "stream",
     "text": [
      "Text Size vs. Vocabulary Size (Lemmatized): (317464, 12002)\n",
      "Text Size vs. Vocabulary Size (Stemming): (317464, 7376)\n",
      "Lemmatisation gets more words than Stemming\n"
     ]
    },
    {
     "name": "stderr",
     "output_type": "stream",
     "text": [
      "[nltk_data] Downloading package stopwords to\n",
      "[nltk_data]     C:\\Users\\admin\\AppData\\Roaming\\nltk_data...\n",
      "[nltk_data]   Package stopwords is already up-to-date!\n"
     ]
    },
    {
     "name": "stdout",
     "output_type": "stream",
     "text": [
      "Text Size vs. Vocabulary Size (Lemmatized): (516497, 16865)\n",
      "Text Size vs. Vocabulary Size (Stemming): (516497, 10303)\n",
      "Lemmatisation gets more words than Stemming\n"
     ]
    },
    {
     "name": "stderr",
     "output_type": "stream",
     "text": [
      "[nltk_data] Downloading package stopwords to\n",
      "[nltk_data]     C:\\Users\\admin\\AppData\\Roaming\\nltk_data...\n",
      "[nltk_data]   Package stopwords is already up-to-date!\n"
     ]
    },
    {
     "name": "stdout",
     "output_type": "stream",
     "text": [
      "Text Size vs. Vocabulary Size (Lemmatized): (62669, 6093)\n",
      "Text Size vs. Vocabulary Size (Stemming): (62669, 3795)\n",
      "Lemmatisation gets more words than Stemming\n"
     ]
    },
    {
     "name": "stderr",
     "output_type": "stream",
     "text": [
      "[nltk_data] Downloading package stopwords to\n",
      "[nltk_data]     C:\\Users\\admin\\AppData\\Roaming\\nltk_data...\n",
      "[nltk_data]   Package stopwords is already up-to-date!\n"
     ]
    },
    {
     "name": "stdout",
     "output_type": "stream",
     "text": [
      "Text Size vs. Vocabulary Size (Lemmatized): (4584, 1051)\n",
      "Text Size vs. Vocabulary Size (Stemming): (4584, 833)\n",
      "Lemmatisation gets more words than Stemming\n"
     ]
    },
    {
     "name": "stderr",
     "output_type": "stream",
     "text": [
      "[nltk_data] Downloading package stopwords to\n",
      "[nltk_data]     C:\\Users\\admin\\AppData\\Roaming\\nltk_data...\n",
      "[nltk_data]   Package stopwords is already up-to-date!\n"
     ]
    },
    {
     "name": "stdout",
     "output_type": "stream",
     "text": [
      "Text Size vs. Vocabulary Size (Lemmatized): (50005, 4763)\n",
      "Text Size vs. Vocabulary Size (Stemming): (50005, 3002)\n",
      "Lemmatisation gets more words than Stemming\n"
     ]
    },
    {
     "name": "stderr",
     "output_type": "stream",
     "text": [
      "[nltk_data] Downloading package stopwords to\n",
      "[nltk_data]     C:\\Users\\admin\\AppData\\Roaming\\nltk_data...\n",
      "[nltk_data]   Package stopwords is already up-to-date!\n"
     ]
    },
    {
     "name": "stdout",
     "output_type": "stream",
     "text": [
      "Text Size vs. Vocabulary Size (Lemmatized): (788515, 24417)\n",
      "Text Size vs. Vocabulary Size (Stemming): (788515, 15753)\n",
      "Lemmatisation gets more words than Stemming\n"
     ]
    },
    {
     "name": "stderr",
     "output_type": "stream",
     "text": [
      "[nltk_data] Downloading package stopwords to\n",
      "[nltk_data]     C:\\Users\\admin\\AppData\\Roaming\\nltk_data...\n",
      "[nltk_data]   Package stopwords is already up-to-date!\n"
     ]
    },
    {
     "data": {
      "text/html": [
       "<div>\n",
       "<style scoped>\n",
       "    .dataframe tbody tr th:only-of-type {\n",
       "        vertical-align: middle;\n",
       "    }\n",
       "\n",
       "    .dataframe tbody tr th {\n",
       "        vertical-align: top;\n",
       "    }\n",
       "\n",
       "    .dataframe thead th {\n",
       "        text-align: right;\n",
       "    }\n",
       "</style>\n",
       "<table border=\"1\" class=\"dataframe\">\n",
       "  <thead>\n",
       "    <tr style=\"text-align: right;\">\n",
       "      <th></th>\n",
       "      <th>category</th>\n",
       "      <th>city</th>\n",
       "      <th>company_name</th>\n",
       "      <th>geo</th>\n",
       "      <th>job_board</th>\n",
       "      <th>job_description</th>\n",
       "      <th>job_title</th>\n",
       "      <th>job_type</th>\n",
       "      <th>post_date</th>\n",
       "      <th>salary_offered</th>\n",
       "      <th>state</th>\n",
       "      <th>url</th>\n",
       "      <th>experience year</th>\n",
       "    </tr>\n",
       "  </thead>\n",
       "  <tbody>\n",
       "    <tr>\n",
       "      <th>42</th>\n",
       "      <td>Accounting</td>\n",
       "      <td>Sydney</td>\n",
       "      <td>Hays Accountancy &amp; Finance</td>\n",
       "      <td>AU</td>\n",
       "      <td>seek</td>\n",
       "      <td>experi</td>\n",
       "      <td>Insolvency Intermediate/Senior</td>\n",
       "      <td>Full Time</td>\n",
       "      <td>2018-04-16T01:33:59Z</td>\n",
       "      <td>NaN</td>\n",
       "      <td>CBD, Inner West &amp; Eastern Suburbs</td>\n",
       "      <td>https://www.seek.com.au/job/35991750</td>\n",
       "      <td>02</td>\n",
       "    </tr>\n",
       "    <tr>\n",
       "      <th>45</th>\n",
       "      <td>Accounting</td>\n",
       "      <td>Sydney</td>\n",
       "      <td>EML</td>\n",
       "      <td>AU</td>\n",
       "      <td>seek</td>\n",
       "      <td>practic financi contractu inventori function s...</td>\n",
       "      <td>Asset &amp; Contracts Manager</td>\n",
       "      <td>Full Time</td>\n",
       "      <td>2018-04-16T04:00:02Z</td>\n",
       "      <td>NaN</td>\n",
       "      <td>NaN</td>\n",
       "      <td>https://www.seek.com.au/job/35993987</td>\n",
       "      <td>5</td>\n",
       "    </tr>\n",
       "    <tr>\n",
       "      <th>82</th>\n",
       "      <td>Accounting</td>\n",
       "      <td>Sydney</td>\n",
       "      <td>Robert Half Finance &amp; Accounting</td>\n",
       "      <td>AU</td>\n",
       "      <td>seek</td>\n",
       "      <td>fund experi sap</td>\n",
       "      <td>Credit Officer</td>\n",
       "      <td>Contract/Temp</td>\n",
       "      <td>2018-04-16T02:41:24Z</td>\n",
       "      <td>$28 - $32 p.h.</td>\n",
       "      <td>Ryde &amp; Macquarie Park</td>\n",
       "      <td>https://www.seek.com.au/job/35992747</td>\n",
       "      <td>No</td>\n",
       "    </tr>\n",
       "    <tr>\n",
       "      <th>92</th>\n",
       "      <td>Accounting</td>\n",
       "      <td>Brisbane</td>\n",
       "      <td>Hays Accountancy &amp; Finance</td>\n",
       "      <td>AU</td>\n",
       "      <td>seek</td>\n",
       "      <td>Not Required</td>\n",
       "      <td>Finance Officer</td>\n",
       "      <td>Full Time</td>\n",
       "      <td>2018-04-16T03:12:55Z</td>\n",
       "      <td>NaN</td>\n",
       "      <td>Northern Suburbs</td>\n",
       "      <td>https://www.seek.com.au/job/35993171</td>\n",
       "      <td>07</td>\n",
       "    </tr>\n",
       "    <tr>\n",
       "      <th>123</th>\n",
       "      <td>Accounting</td>\n",
       "      <td>Melbourne</td>\n",
       "      <td>CFA</td>\n",
       "      <td>AU</td>\n",
       "      <td>seek</td>\n",
       "      <td>experi</td>\n",
       "      <td>Business Support Officer Accounts Receivable</td>\n",
       "      <td>Full Time</td>\n",
       "      <td>2018-04-16T02:38:21Z</td>\n",
       "      <td>NaN</td>\n",
       "      <td>Bayside &amp; South Eastern Suburbs</td>\n",
       "      <td>https://www.seek.com.au/job/35992698</td>\n",
       "      <td>24</td>\n",
       "    </tr>\n",
       "    <tr>\n",
       "      <th>...</th>\n",
       "      <td>...</td>\n",
       "      <td>...</td>\n",
       "      <td>...</td>\n",
       "      <td>...</td>\n",
       "      <td>...</td>\n",
       "      <td>...</td>\n",
       "      <td>...</td>\n",
       "      <td>...</td>\n",
       "      <td>...</td>\n",
       "      <td>...</td>\n",
       "      <td>...</td>\n",
       "      <td>...</td>\n",
       "      <td>...</td>\n",
       "    </tr>\n",
       "    <tr>\n",
       "      <th>29972</th>\n",
       "      <td>Trades &amp; Services</td>\n",
       "      <td>Yarra Valley &amp; High Country</td>\n",
       "      <td>Hitech Steel</td>\n",
       "      <td>AU</td>\n",
       "      <td>seek</td>\n",
       "      <td>Not Required</td>\n",
       "      <td>boilermaker / sheet metal worker</td>\n",
       "      <td>Full Time</td>\n",
       "      <td>2018-04-11T04:21:08Z</td>\n",
       "      <td>$50,000 - $69,999</td>\n",
       "      <td>NaN</td>\n",
       "      <td>https://www.seek.com.au/job/35958508</td>\n",
       "      <td>No</td>\n",
       "    </tr>\n",
       "    <tr>\n",
       "      <th>29976</th>\n",
       "      <td>Trades &amp; Services</td>\n",
       "      <td>Melbourne</td>\n",
       "      <td>Silver Star Motors</td>\n",
       "      <td>AU</td>\n",
       "      <td>seek</td>\n",
       "      <td>one ha an excit opportun foran experienc autom...</td>\n",
       "      <td>Automotive Technician</td>\n",
       "      <td>Full Time</td>\n",
       "      <td>2018-04-11T05:13:26Z</td>\n",
       "      <td>NaN</td>\n",
       "      <td>Eastern Suburbs</td>\n",
       "      <td>https://www.seek.com.au/job/35959523</td>\n",
       "      <td>No</td>\n",
       "    </tr>\n",
       "    <tr>\n",
       "      <th>29983</th>\n",
       "      <td>Trades &amp; Services</td>\n",
       "      <td>Brisbane</td>\n",
       "      <td>Hays Manufacturing &amp; Operations</td>\n",
       "      <td>AU</td>\n",
       "      <td>seek</td>\n",
       "      <td>Not Required</td>\n",
       "      <td>Sheet Metal Worker</td>\n",
       "      <td>Contract/Temp</td>\n",
       "      <td>2018-04-11T03:39:07Z</td>\n",
       "      <td>NaN</td>\n",
       "      <td>Southern Suburbs &amp; Logan</td>\n",
       "      <td>https://www.seek.com.au/job/35957691</td>\n",
       "      <td>No</td>\n",
       "    </tr>\n",
       "    <tr>\n",
       "      <th>29989</th>\n",
       "      <td>Trades &amp; Services</td>\n",
       "      <td>Melbourne</td>\n",
       "      <td>Defence Force Recruiting Southern Region</td>\n",
       "      <td>AU</td>\n",
       "      <td>seek</td>\n",
       "      <td>experi</td>\n",
       "      <td>Infantry Soldier - Female Opportunity</td>\n",
       "      <td>Full Time</td>\n",
       "      <td>2018-04-11T02:28:13Z</td>\n",
       "      <td>NaN</td>\n",
       "      <td>Western Suburbs</td>\n",
       "      <td>https://www.seek.com.au/job/35956735</td>\n",
       "      <td>59</td>\n",
       "    </tr>\n",
       "    <tr>\n",
       "      <th>29992</th>\n",
       "      <td>Trades &amp; Services</td>\n",
       "      <td>Adelaide</td>\n",
       "      <td>Flick Anticimex Pty Ltd</td>\n",
       "      <td>AU</td>\n",
       "      <td>seek</td>\n",
       "      <td>credenti experi</td>\n",
       "      <td>Pest Operations Manager</td>\n",
       "      <td>Full Time</td>\n",
       "      <td>2018-04-11T05:03:08Z</td>\n",
       "      <td>$65,000 - $74,999</td>\n",
       "      <td>NaN</td>\n",
       "      <td>https://www.seek.com.au/job/35959355</td>\n",
       "      <td>No</td>\n",
       "    </tr>\n",
       "  </tbody>\n",
       "</table>\n",
       "<p>30000 rows × 13 columns</p>\n",
       "</div>"
      ],
      "text/plain": [
       "                category                         city  \\\n",
       "42            Accounting                       Sydney   \n",
       "45            Accounting                       Sydney   \n",
       "82            Accounting                       Sydney   \n",
       "92            Accounting                     Brisbane   \n",
       "123           Accounting                    Melbourne   \n",
       "...                  ...                          ...   \n",
       "29972  Trades & Services  Yarra Valley & High Country   \n",
       "29976  Trades & Services                    Melbourne   \n",
       "29983  Trades & Services                     Brisbane   \n",
       "29989  Trades & Services                    Melbourne   \n",
       "29992  Trades & Services                     Adelaide   \n",
       "\n",
       "                                   company_name geo job_board  \\\n",
       "42                   Hays Accountancy & Finance  AU      seek   \n",
       "45                                          EML  AU      seek   \n",
       "82             Robert Half Finance & Accounting  AU      seek   \n",
       "92                   Hays Accountancy & Finance  AU      seek   \n",
       "123                                         CFA  AU      seek   \n",
       "...                                         ...  ..       ...   \n",
       "29972                              Hitech Steel  AU      seek   \n",
       "29976                        Silver Star Motors  AU      seek   \n",
       "29983           Hays Manufacturing & Operations  AU      seek   \n",
       "29989  Defence Force Recruiting Southern Region  AU      seek   \n",
       "29992                   Flick Anticimex Pty Ltd  AU      seek   \n",
       "\n",
       "                                         job_description  \\\n",
       "42                                                experi   \n",
       "45     practic financi contractu inventori function s...   \n",
       "82                                       fund experi sap   \n",
       "92                                          Not Required   \n",
       "123                                               experi   \n",
       "...                                                  ...   \n",
       "29972                                       Not Required   \n",
       "29976  one ha an excit opportun foran experienc autom...   \n",
       "29983                                       Not Required   \n",
       "29989                                             experi   \n",
       "29992                                    credenti experi   \n",
       "\n",
       "                                          job_title       job_type  \\\n",
       "42                   Insolvency Intermediate/Senior      Full Time   \n",
       "45                        Asset & Contracts Manager      Full Time   \n",
       "82                                  Credit Officer   Contract/Temp   \n",
       "92                                  Finance Officer      Full Time   \n",
       "123    Business Support Officer Accounts Receivable      Full Time   \n",
       "...                                             ...            ...   \n",
       "29972              boilermaker / sheet metal worker      Full Time   \n",
       "29976                         Automotive Technician      Full Time   \n",
       "29983                            Sheet Metal Worker  Contract/Temp   \n",
       "29989         Infantry Soldier - Female Opportunity      Full Time   \n",
       "29992                       Pest Operations Manager      Full Time   \n",
       "\n",
       "                  post_date     salary_offered  \\\n",
       "42     2018-04-16T01:33:59Z                NaN   \n",
       "45     2018-04-16T04:00:02Z                NaN   \n",
       "82     2018-04-16T02:41:24Z     $28 - $32 p.h.   \n",
       "92     2018-04-16T03:12:55Z                NaN   \n",
       "123    2018-04-16T02:38:21Z                NaN   \n",
       "...                     ...                ...   \n",
       "29972  2018-04-11T04:21:08Z  $50,000 - $69,999   \n",
       "29976  2018-04-11T05:13:26Z                NaN   \n",
       "29983  2018-04-11T03:39:07Z                NaN   \n",
       "29989  2018-04-11T02:28:13Z                NaN   \n",
       "29992  2018-04-11T05:03:08Z  $65,000 - $74,999   \n",
       "\n",
       "                                   state  \\\n",
       "42     CBD, Inner West & Eastern Suburbs   \n",
       "45                                   NaN   \n",
       "82                 Ryde & Macquarie Park   \n",
       "92                      Northern Suburbs   \n",
       "123      Bayside & South Eastern Suburbs   \n",
       "...                                  ...   \n",
       "29972                                NaN   \n",
       "29976                    Eastern Suburbs   \n",
       "29983           Southern Suburbs & Logan   \n",
       "29989                    Western Suburbs   \n",
       "29992                                NaN   \n",
       "\n",
       "                                        url experience year  \n",
       "42     https://www.seek.com.au/job/35991750              02  \n",
       "45     https://www.seek.com.au/job/35993987               5  \n",
       "82     https://www.seek.com.au/job/35992747              No  \n",
       "92     https://www.seek.com.au/job/35993171              07  \n",
       "123    https://www.seek.com.au/job/35992698              24  \n",
       "...                                     ...             ...  \n",
       "29972  https://www.seek.com.au/job/35958508              No  \n",
       "29976  https://www.seek.com.au/job/35959523              No  \n",
       "29983  https://www.seek.com.au/job/35957691              No  \n",
       "29989  https://www.seek.com.au/job/35956735              59  \n",
       "29992  https://www.seek.com.au/job/35959355              No  \n",
       "\n",
       "[30000 rows x 13 columns]"
      ]
     },
     "execution_count": 23,
     "metadata": {},
     "output_type": "execute_result"
    }
   ],
   "source": [
    "total_df = pd.DataFrame()\n",
    "category_lst = np.unique(aujob['category'].tolist())\n",
    "for i in range(len(category_lst)):\n",
    "    size_a,tokenized, whole_df = tokenize(category_lst[i])\n",
    "    compared = LemAndStem(tokenized)\n",
    "    size_b, retokenized = retokenize(compared)\n",
    "    size_c, SWord_Removed = removed(retokenized)\n",
    "    size_d, Expext, new_experience = tfidfrank(SWord_Removed)\n",
    "    new_dataframe = whole_df\n",
    "    newcol=[]\n",
    "    dete=[]\n",
    "    for row in SWord_Removed:\n",
    "        new_lin = \"\"\n",
    "        n = len(row)\n",
    "        for word in row:\n",
    "            n -= 1\n",
    "            if operator.contains(word, 'experi'):\n",
    "                dete.append(\"Yes\")\n",
    "                break\n",
    "            elif n ==0 :\n",
    "                dete.append(\"No\")\n",
    "                break\n",
    "\n",
    "    for num in range(len(SWord_Removed)):\n",
    "        if dete[num] == \"Yes\":\n",
    "            x=len(SWord_Removed[num])\n",
    "            for di in SWord_Removed[num]:\n",
    "                x -= 1\n",
    "                if di.isdigit():\n",
    "                    newcol.append(di)\n",
    "                    break\n",
    "                elif x == 0:\n",
    "                    newcol.append(\"No\")\n",
    "        else:\n",
    "            newcol.append(\"No\")\n",
    "            continue\n",
    "    new_dataframe['experienceyear'] = newcol\n",
    "    new_dataframe['job_description'] = new_experience\n",
    "    total_df = pd.concat([total_df, new_dataframe])\n",
    "total_df"
   ]
  },
  {
   "cell_type": "markdown",
   "metadata": {},
   "source": [
    "### 2.6 Create a csv Object"
   ]
  },
  {
   "cell_type": "markdown",
   "metadata": {},
   "source": [
    "Create a object so we do not have to run the steps above to obtain the needed dataset."
   ]
  },
  {
   "cell_type": "code",
   "execution_count": null,
   "metadata": {},
   "outputs": [],
   "source": [
    "total_df.to_csv('dataset.csv',index=False)"
   ]
  },
  {
   "cell_type": "markdown",
   "metadata": {},
   "source": [
    "## 3 Linguistic Patterns"
   ]
  },
  {
   "cell_type": "markdown",
   "metadata": {},
   "source": [
    "Obtain the dataset we saved in the new object, so everytime we use may save many time."
   ]
  },
  {
   "cell_type": "code",
   "execution_count": 3,
   "metadata": {},
   "outputs": [],
   "source": [
    "data = pd.read_csv(\"dataset.csv\")\n",
    "data.rename(columns={'category':'job_category','city':'location','job_title':'job_name','url':'job_url'},inplace=True)\n",
    "list = []\n",
    "for i in data['experienceyear']:\n",
    "    if i == 'No':\n",
    "        i = -1\n",
    "    elif float(i) > 15:\n",
    "        i = -1\n",
    "    else:\n",
    "        i=i\n",
    "    list.append(float(i))\n",
    "data['experienceyear'] = list"
   ]
  },
  {
   "cell_type": "markdown",
   "metadata": {},
   "source": [
    "Covert into dictionary"
   ]
  },
  {
   "cell_type": "code",
   "execution_count": 4,
   "metadata": {},
   "outputs": [],
   "source": [
    "job_details = []\n",
    "dict_title = ['job_category', 'job_name', 'job_type', 'location', 'company_name', 'experience', 'job_URL','experienceyear']\n",
    "location = data['location'].tolist()\n",
    "job_name = data['job_name'].tolist()\n",
    "company_name = data['company_name'].tolist()\n",
    "job_type = data['job_type'].tolist()\n",
    "job_URL = data['job_url'].tolist()\n",
    "job_category = data['job_category'].tolist()\n",
    "experience = data['job_description'].tolist()\n",
    "experienceyear = data['experienceyear'].tolist()\n",
    "for i in range(len(job_name)):\n",
    "    key = []\n",
    "    key.append(job_category[i].lower())\n",
    "    key.append(job_name[i].lower())\n",
    "    key.append(job_type[i].lower())\n",
    "    key.append(location[i].lower())\n",
    "    key.append(company_name[i].lower())\n",
    "    key.append(experience[i].lower())\n",
    "    key.append(job_URL[i].lower())\n",
    "    key.append(experienceyear[i])\n",
    "    job_details.append(dict(zip(dict_title,key)))\n",
    "dat = pd.DataFrame(job_details)"
   ]
  },
  {
   "cell_type": "markdown",
   "metadata": {},
   "source": [
    "### 3.1 For Job category, job name"
   ]
  },
  {
   "cell_type": "code",
   "execution_count": 5,
   "metadata": {},
   "outputs": [
    {
     "name": "stdout",
     "output_type": "stream",
     "text": [
      "Span: in a bakery\n",
      "The positions in the doc are: 9 - 12\n"
     ]
    }
   ],
   "source": [
    "patternjn1 = [{\"POS\":\"NOUN\"},{\"POS\":\"ADP\"},{\"POS\":\"PROPN\"}] # Find me a job for Accountant in Sydney.\n",
    "patternjn2 = [{\"LEMMA\":\"experience\"},{\"POS\":\"ADP\"},{\"POS\":\"NOUN\"}] # I have ten years of experience in taxation.\n",
    "patternjn3 = [{\"POS\":\"ADP\"},{\"POS\":\"DET\"},{\"LOWER\":\"company\",\"OP\":\"!\"}] #I have no exprience, find me a job in a bakery.\n",
    "matcherjob_name = Matcher(nlp.vocab)\n",
    "matcherjob_name.add(\"Job_name\",[patternjn1,patternjn2,patternjn3])\n",
    "# doc = nlp('I have no exprience, find me a job in a bakery.')\n",
    "# matches = matcherjob_name(doc)\n",
    "# for match_id, start, end in matches:\n",
    "#     span = doc[start:end]\n",
    "#     print(\"Span:\",span.text)\n",
    "#     print(\"The positions in the doc are:\", start, \"-\", end)"
   ]
  },
  {
   "cell_type": "markdown",
   "metadata": {},
   "source": [
    "###  3.2 For Location"
   ]
  },
  {
   "cell_type": "code",
   "execution_count": 6,
   "metadata": {},
   "outputs": [],
   "source": [
    "patternloc1 = [{\"TEXT\":\"in\"},{\"POS\":\"PROPN\"}] # in Sydney\n",
    "patternloc2 = [{\"TEXT\":\"on\"},{\"POS\":\"PROPN\"}] # on... Road\n",
    "patternloc3 = [{\"POS\":\"ADP\"},{\"ENT_TYPE\":\"GPE\",\"OP\":\"+\"}] # in Melbourne\n",
    "patternloc4 = [{\"TEXT\":\"on\"},{\"POS\":\"DET\",\"OP\":\"?\"},{\"POS\":\"PROPN\"},{\"OP\":\"+\"},{\"LOWER\":\"road\"}] # Find me a job for working on the Geelong & Great Ocean Road.\n",
    "patternloc5 = [{\"POS\":\"ADP\"},{\"ENT_TYPE\":\"LOC\",\"OP\":\"+\"}] # Find me a job for working on Sunshine Coast.\n",
    "matcherloc = Matcher(nlp.vocab)\n",
    "matcherloc.add(\"Location\",[patternloc1, patternloc2, patternloc3, patternloc4, patternloc5])\n",
    "# doc = nlp(u\"Find me a job for accountant in Sydney.\")\n",
    "# matches = matcherloc(doc)\n",
    "# for match_id, start, end in matches:\n",
    "#     span = doc[start:end]\n",
    "#     print(\"Span:\",span.text)\n",
    "#     print(\"The positions in the doc are:\", start, \"-\", end)"
   ]
  },
  {
   "cell_type": "markdown",
   "metadata": {},
   "source": [
    "### 3.3 For Company"
   ]
  },
  {
   "cell_type": "code",
   "execution_count": 7,
   "metadata": {},
   "outputs": [],
   "source": [
    "patternco1 = [{\"LOWER\":\"company\"},{\"POS\":\"VERB\"},{\"ENT_TYPE\":\"ORG\",\"OP\":\"+\"},{\"DEP\":\"oprd\"}] # Find me a job working for the company called Sharp & Carter Accounting Clerical\n",
    "patternco2 = [{\"POS\":\"VERB\"},{\"POS\":\"ADP\"},{\"OP\":\"*\"},{\"DEP\":\"pobj\"}] # \"I hope that Sharp & Carter Accounting Clerical would hire me.\n",
    "matcherco_name = Matcher(nlp.vocab)\n",
    "matcherco_name.add(\"CompanyName\",[patternco1, patternco2])\n",
    "# doc = nlp(u\"I have no exprience, find me a job in Taxation.\")\n",
    "# matches = matcherco_name(doc)\n",
    "# for match_id, start, end in matches:\n",
    "#     span = doc[start:end]\n",
    "#     print(\"Span:\",span.text)\n",
    "#     print(\"The positions in the doc are:\", start, \"-\", end)"
   ]
  },
  {
   "cell_type": "code",
   "execution_count": 8,
   "metadata": {},
   "outputs": [],
   "source": [
    "# nltk.download('averaged_perceptron_tagger')\n",
    "# nlp = spacy.load(\"en_core_web_sm\")\n",
    "# doc = nlp(u\"I have no exprience, find me a job in taxation.\")\n",
    "# displacy.render(doc,style = 'dep')\n"
   ]
  },
  {
   "cell_type": "markdown",
   "metadata": {},
   "source": [
    "### 3.4 For Job Type"
   ]
  },
  {
   "cell_type": "code",
   "execution_count": 9,
   "metadata": {},
   "outputs": [],
   "source": [
    "patternty1 = [{\"DEP\":\"det\"},{\"DEP\":\"amod\"},{\"DEP\":\"compound\",\"OP\":\"?\"}] # I want a temporary job.\n",
    "patternty2 = [{\"DEP\":\"relcl\"},{\"POS\":\"ADJ\"},{\"POS\":\"NOUN\",\"OP\":\"?\"}] # I want a job which is full time.\n",
    "matcherjob_type = Matcher(nlp.vocab)\n",
    "matcherjob_type.add(\"JobType\",[patternty1, patternty2])"
   ]
  },
  {
   "cell_type": "markdown",
   "metadata": {},
   "source": [
    "### 3.5 For Experience"
   ]
  },
  {
   "cell_type": "code",
   "execution_count": 10,
   "metadata": {},
   "outputs": [],
   "source": [
    "patternexp1 = [{\"POS\":\"VERB\"},{\"DEP\":\"nummod\"},{\"DEP\":\"dobj\"},{\"DEP\":\"prep\"},{\"LEMMA\":\"experience\"}]# ten years of experience\n",
    "patternexp2 = [{\"POS\":\"VERB\"},{\"POS\":\"NUM\"},{\"OP\":\"*\"},{\"LEMMA\":\"experience\"}] # ten years experience of taxation\n",
    "patternexp3 = [{\"POS\":\"ADP\"},{\"POS\":\"DET\"},{\"LEMMA\":\"experience\"}]# with no experience\n",
    "patternexp4 = [{\"POS\":\"VERB\"},{\"POS\":\"DET\"},{\"LEMMA\":\"experience\"}]# I have no experience, find me a job in a bakery.\n",
    "matcherexp = Matcher(nlp.vocab)\n",
    "matcherexp.add(\"Experience\",[patternexp1,patternexp2,patternexp3,patternexp4])\n",
    "# doc = nlp(u\"Find me a job in Sydney.\")\n",
    "# matches = matcherexp(doc)\n",
    "# for match_id, start, end in matches:\n",
    "#     span = doc[start:end]\n",
    "#     print(\"Span:\",span.text)\n",
    "#     print(\"The positions in the doc are:\", start, \"-\", end)"
   ]
  },
  {
   "cell_type": "code",
   "execution_count": 11,
   "metadata": {},
   "outputs": [],
   "source": [
    "# nltk.download('averaged_perceptron_tagger')\n",
    "# nlp = spacy.load(\"en_core_web_sm\")\n",
    "# doc = nlp(u\"I have no experience, find me a job in a bakery.\")\n",
    "# displacy.render(doc,style = 'dep')\n",
    "# # for token in doc:\n",
    "# #     print(token.head.text, token.dep_, token.text)\n",
    "# for ent in doc.ents:\n",
    "#     print(ent.text, ent.label_)"
   ]
  },
  {
   "cell_type": "markdown",
   "metadata": {},
   "source": [
    "## 4 Chatbot Implementation and Deployment"
   ]
  },
  {
   "cell_type": "markdown",
   "metadata": {},
   "source": [
    "### 4.1 Extract intents of job name"
   ]
  },
  {
   "cell_type": "code",
   "execution_count": 12,
   "metadata": {},
   "outputs": [
    {
     "data": {
      "text/plain": [
       "taxation"
      ]
     },
     "execution_count": 12,
     "metadata": {},
     "output_type": "execute_result"
    }
   ],
   "source": [
    "def job_name_extr(sentence):\n",
    "    doc = nlp(sentence)\n",
    "    match = matcherjob_name(doc,as_spans = True)\n",
    "    return match[0][-1]\n",
    "job_name_extr('I have ten years of experience in taxation, find me a job')"
   ]
  },
  {
   "cell_type": "markdown",
   "metadata": {},
   "source": [
    "### 4.2 Extract intents of location"
   ]
  },
  {
   "cell_type": "code",
   "execution_count": 13,
   "metadata": {},
   "outputs": [
    {
     "data": {
      "text/plain": [
       "Adelaide"
      ]
     },
     "execution_count": 13,
     "metadata": {},
     "output_type": "execute_result"
    }
   ],
   "source": [
    "def location_extr(sentence):\n",
    "    doc = nlp(sentence)\n",
    "    match = matcherloc(doc,as_spans=True)\n",
    "    return match[-1][1:]\n",
    "location_extr('I want to work in Adelaide.')"
   ]
  },
  {
   "cell_type": "markdown",
   "metadata": {},
   "source": [
    "### 4.3 Extract intents of company name"
   ]
  },
  {
   "cell_type": "code",
   "execution_count": 14,
   "metadata": {},
   "outputs": [
    {
     "data": {
      "text/plain": [
       "Sharp & Carter Accounting Clerical"
      ]
     },
     "execution_count": 14,
     "metadata": {},
     "output_type": "execute_result"
    }
   ],
   "source": [
    "def company_name_extr(sentence):\n",
    "    doc = nlp(sentence)\n",
    "    match = matcherco_name(doc,as_spans=True)\n",
    "    return match[-1][2:]\n",
    "company_name_extr('I want to work for Sharp & Carter Accounting Clerical')"
   ]
  },
  {
   "cell_type": "markdown",
   "metadata": {},
   "source": [
    "### 4.4 Extract intents of job type"
   ]
  },
  {
   "cell_type": "code",
   "execution_count": 15,
   "metadata": {},
   "outputs": [
    {
     "data": {
      "text/plain": [
       "temporary"
      ]
     },
     "execution_count": 15,
     "metadata": {},
     "output_type": "execute_result"
    }
   ],
   "source": [
    "def job_type_extr(sentence):\n",
    "    doc = nlp(sentence)\n",
    "    match = matcherjob_type(doc,as_spans=True)\n",
    "    return match[-1][1:]\n",
    "job_type_extr(\"I want a job which is temporary.\")"
   ]
  },
  {
   "cell_type": "markdown",
   "metadata": {},
   "source": [
    "### 4.5 Extract intents of experience"
   ]
  },
  {
   "cell_type": "code",
   "execution_count": 16,
   "metadata": {},
   "outputs": [
    {
     "data": {
      "text/plain": [
       "0"
      ]
     },
     "execution_count": 16,
     "metadata": {},
     "output_type": "execute_result"
    }
   ],
   "source": [
    "def experienceyear_extr(sentence):\n",
    "    doc = nlp(sentence)\n",
    "    match = matcherexp(doc,as_spans=True)\n",
    "    phrase = match[0][1:]\n",
    "    year_dic = {\"no\":0,\"one\":1,\"two\":2,\"three\":3,\"four\":4,\"five\":5,\"six\":6,\"seven\":7,\"eight\":8,\"nine\":9,\"ten\":10,\"eleven\":11,\"twelve\":12}\n",
    "    return year_dic[str(phrase[0]).lower()]\n",
    "experienceyear_extr(\"I have no experience in taxation, find me a job\")"
   ]
  },
  {
   "cell_type": "markdown",
   "metadata": {},
   "source": [
    "### 4.6 The main function to extract every types of intent"
   ]
  },
  {
   "cell_type": "markdown",
   "metadata": {},
   "source": [
    "This main function would return a dictionary that contains the information the user gives."
   ]
  },
  {
   "cell_type": "code",
   "execution_count": 20,
   "metadata": {},
   "outputs": [
    {
     "data": {
      "text/plain": [
       "{'job_name': 'bakery',\n",
       " 'location': 'Empty',\n",
       " 'company_name': 'Empty',\n",
       " 'job_type': 'Empty',\n",
       " 'experienceyear': '0'}"
      ]
     },
     "execution_count": 20,
     "metadata": {},
     "output_type": "execute_result"
    }
   ],
   "source": [
    "def extra_elements(input_text):\n",
    "    NameLst = ['job_name', 'location', 'company_name', 'job_type', 'experienceyear']\n",
    "    matchname = [matcherjob_name,matcherloc,matcherco_name,matcherjob_type, matcherexp]\n",
    "    useful_info = []\n",
    "    n=len(NameLst)\n",
    "    doc_extra = nlp(input_text)\n",
    "    for i in range(n):\n",
    "        match_ele = matchname[i](doc_extra,as_spans=True)\n",
    "        if match_ele != []:\n",
    "            val = \"\".join([NameLst[i],'_extr'])\n",
    "            info = str(eval(val)(input_text))\n",
    "            if info.isdigit():\n",
    "                useful_info.append(info)\n",
    "            else:\n",
    "                useful_info.append(info.lower())\n",
    "        else:\n",
    "            useful_info.append(\"Empty\")\n",
    "    match_dic = dict(zip(NameLst,useful_info))\n",
    "    return match_dic\n",
    "extra_elements('I have no experience, find me a job in a bakery.')\n"
   ]
  },
  {
   "cell_type": "markdown",
   "metadata": {},
   "source": [
    "### 4.7 Chatbot Implementation"
   ]
  },
  {
   "cell_type": "markdown",
   "metadata": {},
   "source": [
    "Bot name:'Jarvis'\n",
    "\n",
    "Token: '5120317463:AAFMSX7wgP_OtDpTmX8MPQQKhe1RuVq7S38'"
   ]
  },
  {
   "cell_type": "code",
   "execution_count": 18,
   "metadata": {},
   "outputs": [
    {
     "name": "stdout",
     "output_type": "stream",
     "text": [
      "{'supports_inline_queries': False, 'is_bot': True, 'can_read_all_group_messages': False, 'username': 'NadleehBot', 'id': 5120317463, 'first_name': 'Jarvis', 'can_join_groups': True}\n"
     ]
    }
   ],
   "source": [
    "import telegram\n",
    "TOKEN = '5120317463:AAFMSX7wgP_OtDpTmX8MPQQKhe1RuVq7S38'\n",
    "bot = telegram.Bot(token=TOKEN)\n",
    "print(bot.get_me())"
   ]
  },
  {
   "cell_type": "code",
   "execution_count": 21,
   "metadata": {},
   "outputs": [],
   "source": [
    "from telegram.ext import Updater, MessageHandler, Filters\n",
    "\n",
    "\n",
    "def botreply(update, context):\n",
    "    job_message = update.message.text  \n",
    "    update.message.reply_text('Please wait, looking for a suitable information now...')\n",
    "    info_dic = extra_elements(job_message)\n",
    "    search_lst = dat\n",
    "    NameLst = ['job_name', 'location', 'company_name', 'job_type','experienceyear']\n",
    "    info_dic = extra_elements(job_message)\n",
    "    for i in NameLst:\n",
    "        if info_dic[i] != 'Empty':\n",
    "            if i == 'experienceyear':\n",
    "                search_lst = search_lst[search_lst[i] < int(info_dic[i])]\n",
    "            else:\n",
    "                search_lst = search_lst[search_lst[i].str.contains(info_dic[i])]\n",
    "        else:\n",
    "            continue\n",
    "    if len(search_lst) >= 500:\n",
    "        update.message.reply_text('Your conditions are too broad, there are too many choices, maybe you can give some more conditions')\n",
    "        update.message.reply_text('Do you want to give some more information about the job you seek?')\n",
    "    elif len(search_lst) == 0:\n",
    "        update.message.reply_text('Such conditions are too harsh, unable to find a suitable job, maybe you can loose some conditions')\n",
    "            \n",
    "    elif len(search_lst) < 500 and len(search_lst) > 0:\n",
    "        x = random.randint(0,int(1/len(search_lst)))-1\n",
    "        name = search_lst.iloc[x]['job_name']\n",
    "        type = search_lst.iloc[x]['job_type']\n",
    "        loc = search_lst.iloc[x]['location'].title()\n",
    "        co = search_lst.iloc[x]['company_name'].title()\n",
    "        exp = search_lst.iloc[x]['experienceyear']\n",
    "        web = search_lst.iloc[x]['job_URL']\n",
    "        if exp <= 0:\n",
    "            exp = \"no\"\n",
    "        else:\n",
    "            exp = str(int(exp))+\" years of\"\n",
    "        update.message.reply_text('I have found a job that is suitable for you. The following is the details.')\n",
    "        update.message.reply_text('The job requies %s' %str(exp)+' experience. For being a %s'%str(name)+', which is a %s'%str(type)+' job.')\n",
    "        update.message.reply_text('This job is posted by a company called %s'%str(co)+', and it is located in %s'%str(loc)+'. If you want more information, you can go %s'%str(web)+'.')\n",
    "    else:\n",
    "        update.message.reply_text('There is something wrong with your input, I highly recommend to send me you conditions again, but be more specific. Thank you!')\n",
    "    \n",
    "\n",
    "\n",
    "    update.message.reply_text('Thanks for using our service, if you have further questions, just let me know.')   \n",
    "    update.message.reply_text('Wish you have a good day! BYE!')\n",
    "\n",
    "\n",
    "\n",
    "#the code responsible for interactions with Telegram\n",
    "updater = Updater(TOKEN, use_context=True)\n",
    "updater.dispatcher.add_handler(MessageHandler(Filters.text, botreply))\n",
    "updater.start_polling()\n",
    "updater.idle()   \n"
   ]
  }
 ],
 "metadata": {
  "kernelspec": {
   "display_name": "Python 3.8.5 ('cits5508-2022')",
   "language": "python",
   "name": "python3"
  },
  "language_info": {
   "codemirror_mode": {
    "name": "ipython",
    "version": 3
   },
   "file_extension": ".py",
   "mimetype": "text/x-python",
   "name": "python",
   "nbconvert_exporter": "python",
   "pygments_lexer": "ipython3",
   "version": "3.8.5"
  },
  "orig_nbformat": 4,
  "vscode": {
   "interpreter": {
    "hash": "eec20bd9a47fb6c5cfeace3c9630a747cc7393bba8937860cb288850f9c55b9b"
   }
  }
 },
 "nbformat": 4,
 "nbformat_minor": 2
}
